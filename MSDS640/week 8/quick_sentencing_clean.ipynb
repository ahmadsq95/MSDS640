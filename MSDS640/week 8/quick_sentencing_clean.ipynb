{
 "cells": [
  {
   "cell_type": "code",
   "execution_count": 3,
   "id": "capable-classroom",
   "metadata": {},
   "outputs": [],
   "source": [
    "import pandas as pd\n",
    "from pandas_profiling import ProfileReport\n",
    "\n",
    "df = pd.read_csv('Hate_Crimes_by_County_and_Bias_Type__Beginning_2010.csv')"
   ]
  },
  {
   "cell_type": "markdown",
   "id": "delayed-management",
   "metadata": {},
   "source": [
    "First, see which values are in the unit column:"
   ]
  },
  {
   "cell_type": "raw",
   "id": "5aa83946",
   "metadata": {},
   "source": []
  },
  {
   "cell_type": "code",
   "execution_count": 6,
   "id": "widespread-brain",
   "metadata": {},
   "outputs": [
    {
     "data": {
      "text/plain": [
       "2017    72\n",
       "2010    68\n",
       "2013    66\n",
       "2011    62\n",
       "2016    61\n",
       "2012    59\n",
       "2019    57\n",
       "2014    56\n",
       "2018    53\n",
       "2015    51\n",
       "Name: Year, dtype: int64"
      ]
     },
     "execution_count": 6,
     "metadata": {},
     "output_type": "execute_result"
    }
   ],
   "source": [
    "df['Year'].value_counts()"
   ]
  },
  {
   "cell_type": "markdown",
   "id": "assigned-salon",
   "metadata": {},
   "source": [
    "Next, filter the dataframe to only keep the 'years' values:"
   ]
  },
  {
   "cell_type": "code",
   "execution_count": 3,
   "id": "valued-volleyball",
   "metadata": {},
   "outputs": [],
   "source": [
    "years_df = df[df['COMMITMENT_UNIT'] == 'Year(s)'].copy()"
   ]
  },
  {
   "cell_type": "markdown",
   "id": "introductory-edition",
   "metadata": {},
   "source": [
    "Convert the term (now only years) to numeric, with any errors turned into missing values:"
   ]
  },
  {
   "cell_type": "code",
   "execution_count": 4,
   "id": "cross-ebony",
   "metadata": {},
   "outputs": [],
   "source": [
    "# coerce turns errors into NaN (missing values)\n",
    "years_df['COMMITMENT_TERM'] = pd.to_numeric(years_df['COMMITMENT_TERM'], errors='coerce')"
   ]
  },
  {
   "cell_type": "code",
   "execution_count": 7,
   "id": "clean-brighton",
   "metadata": {},
   "outputs": [
    {
     "name": "stdout",
     "output_type": "stream",
     "text": [
      "<class 'pandas.core.frame.DataFrame'>\n",
      "RangeIndex: 605 entries, 0 to 604\n",
      "Data columns (total 44 columns):\n",
      " #   Column                                        Non-Null Count  Dtype \n",
      "---  ------                                        --------------  ----- \n",
      " 0   County                                        605 non-null    object\n",
      " 1   Year                                          605 non-null    int64 \n",
      " 2   Crime Type                                    605 non-null    object\n",
      " 3   Anti-Male                                     605 non-null    int64 \n",
      " 4   Anti-Female                                   605 non-null    int64 \n",
      " 5   Anti-Transgender                              605 non-null    int64 \n",
      " 6   Anti-Gender Identity Expression               605 non-null    int64 \n",
      " 7   Anti-Age*                                     605 non-null    int64 \n",
      " 8   Anti-White                                    605 non-null    int64 \n",
      " 9   Anti-Black                                    605 non-null    int64 \n",
      " 10  Anti-American Indian/Alaskan Native           605 non-null    int64 \n",
      " 11  Anti-Asian                                    605 non-null    int64 \n",
      " 12  Anti-Native Hawaiian/Pacific Islander         605 non-null    int64 \n",
      " 13  Anti-Multi-Racial Groups                      605 non-null    int64 \n",
      " 14  Anti-Other Race                               605 non-null    int64 \n",
      " 15  Anti-Jewish                                   605 non-null    int64 \n",
      " 16  Anti-Catholic                                 605 non-null    int64 \n",
      " 17  Anti-Protestant                               605 non-null    int64 \n",
      " 18  Anti-Islamic (Muslim)                         605 non-null    int64 \n",
      " 19  Anti-Multi-Religious Groups                   605 non-null    int64 \n",
      " 20  Anti-Atheism/Agnosticism                      605 non-null    int64 \n",
      " 21  Anti-Religious Practice Generally             605 non-null    int64 \n",
      " 22  Anti-Other Religion                           605 non-null    int64 \n",
      " 23  Anti-Buddhist                                 605 non-null    int64 \n",
      " 24  Anti-Eastern Orthodox (Greek, Russian, etc.)  605 non-null    int64 \n",
      " 25  Anti-Hindu                                    605 non-null    int64 \n",
      " 26  Anti-Jehovahs Witness                         605 non-null    int64 \n",
      " 27  Anti-Mormon                                   605 non-null    int64 \n",
      " 28  Anti-Other Christian                          605 non-null    int64 \n",
      " 29  Anti-Sikh                                     605 non-null    int64 \n",
      " 30  Anti-Hispanic                                 605 non-null    int64 \n",
      " 31  Anti-Arab                                     605 non-null    int64 \n",
      " 32  Anti-Other Ethnicity/National Origin          605 non-null    int64 \n",
      " 33  Anti-Non-Hispanic*                            605 non-null    int64 \n",
      " 34  Anti-Gay Male                                 605 non-null    int64 \n",
      " 35  Anti-Gay Female                               605 non-null    int64 \n",
      " 36  Anti-Gay (Male and Female)                    605 non-null    int64 \n",
      " 37  Anti-Heterosexual                             605 non-null    int64 \n",
      " 38  Anti-Bisexual                                 605 non-null    int64 \n",
      " 39  Anti-Physical Disability                      605 non-null    int64 \n",
      " 40  Anti-Mental Disability                        605 non-null    int64 \n",
      " 41  Total Incidents                               605 non-null    int64 \n",
      " 42  Total Victims                                 605 non-null    int64 \n",
      " 43  Total Offenders                               605 non-null    int64 \n",
      "dtypes: int64(42), object(2)\n",
      "memory usage: 208.1+ KB\n"
     ]
    }
   ],
   "source": [
    "df.info()"
   ]
  },
  {
   "cell_type": "markdown",
   "id": "boring-rebecca",
   "metadata": {},
   "source": [
    "An easy way to select columns is to copy-paste the list of columns into a new cell, and delete columns we don't want. Here, we are keeping columns that look like they have data we want to investigate and don't have lots of missing values:"
   ]
  },
  {
   "cell_type": "code",
   "execution_count": 8,
   "id": "meaningful-girlfriend",
   "metadata": {},
   "outputs": [
    {
     "data": {
      "text/plain": [
       "Index(['County', 'Year', 'Crime Type', 'Anti-Male', 'Anti-Female',\n",
       "       'Anti-Transgender', 'Anti-Gender Identity Expression', 'Anti-Age*',\n",
       "       'Anti-White', 'Anti-Black', 'Anti-American Indian/Alaskan Native',\n",
       "       'Anti-Asian', 'Anti-Native Hawaiian/Pacific Islander',\n",
       "       'Anti-Multi-Racial Groups', 'Anti-Other Race', 'Anti-Jewish',\n",
       "       'Anti-Catholic', 'Anti-Protestant', 'Anti-Islamic (Muslim)',\n",
       "       'Anti-Multi-Religious Groups', 'Anti-Atheism/Agnosticism',\n",
       "       'Anti-Religious Practice Generally', 'Anti-Other Religion',\n",
       "       'Anti-Buddhist', 'Anti-Eastern Orthodox (Greek, Russian, etc.)',\n",
       "       'Anti-Hindu', 'Anti-Jehovahs Witness', 'Anti-Mormon',\n",
       "       'Anti-Other Christian', 'Anti-Sikh', 'Anti-Hispanic', 'Anti-Arab',\n",
       "       'Anti-Other Ethnicity/National Origin', 'Anti-Non-Hispanic*',\n",
       "       'Anti-Gay Male', 'Anti-Gay Female', 'Anti-Gay (Male and Female)',\n",
       "       'Anti-Heterosexual', 'Anti-Bisexual', 'Anti-Physical Disability',\n",
       "       'Anti-Mental Disability', 'Total Incidents', 'Total Victims',\n",
       "       'Total Offenders'],\n",
       "      dtype='object')"
      ]
     },
     "execution_count": 8,
     "metadata": {},
     "output_type": "execute_result"
    }
   ],
   "source": [
    "df.columns"
   ]
  },
  {
   "cell_type": "code",
   "execution_count": 17,
   "id": "subsequent-macro",
   "metadata": {},
   "outputs": [],
   "source": [
    "# keep only some columns\n",
    "keep_cols = ['OFFENSE_CATEGORY','DISPOSITION_DATE',\n",
    "       'DISPOSITION_CHARGED_OFFENSE_TITLE', 'CHARGE_COUNT', 'CHARGE_DISPOSITION',\n",
    "       'SENTENCE_PHASE',\n",
    "       'SENTENCE_TYPE',\n",
    "       'COMMITMENT_TERM',\n",
    "       'RACE', 'GENDER',\n",
    "       ]\n",
    "keep_df = years_df[keep_cols].copy()"
   ]
  },
  {
   "cell_type": "code",
   "execution_count": 18,
   "id": "interracial-finger",
   "metadata": {},
   "outputs": [
    {
     "data": {
      "text/html": [
       "<div>\n",
       "<style scoped>\n",
       "    .dataframe tbody tr th:only-of-type {\n",
       "        vertical-align: middle;\n",
       "    }\n",
       "\n",
       "    .dataframe tbody tr th {\n",
       "        vertical-align: top;\n",
       "    }\n",
       "\n",
       "    .dataframe thead th {\n",
       "        text-align: right;\n",
       "    }\n",
       "</style>\n",
       "<table border=\"1\" class=\"dataframe\">\n",
       "  <thead>\n",
       "    <tr style=\"text-align: right;\">\n",
       "      <th></th>\n",
       "      <th>OFFENSE_CATEGORY</th>\n",
       "      <th>DISPOSITION_DATE</th>\n",
       "      <th>DISPOSITION_CHARGED_OFFENSE_TITLE</th>\n",
       "      <th>CHARGE_COUNT</th>\n",
       "      <th>CHARGE_DISPOSITION</th>\n",
       "      <th>SENTENCE_PHASE</th>\n",
       "      <th>SENTENCE_TYPE</th>\n",
       "      <th>COMMITMENT_TERM</th>\n",
       "      <th>RACE</th>\n",
       "      <th>GENDER</th>\n",
       "    </tr>\n",
       "  </thead>\n",
       "  <tbody>\n",
       "    <tr>\n",
       "      <th>1</th>\n",
       "      <td>PROMIS Conversion</td>\n",
       "      <td>12/17/2014 12:00:00 AM</td>\n",
       "      <td>HOME INVASION</td>\n",
       "      <td>14</td>\n",
       "      <td>Nolle On Remand</td>\n",
       "      <td>Original Sentencing</td>\n",
       "      <td>Conversion</td>\n",
       "      <td>30.0</td>\n",
       "      <td>Black</td>\n",
       "      <td>Male</td>\n",
       "    </tr>\n",
       "    <tr>\n",
       "      <th>4</th>\n",
       "      <td>PROMIS Conversion</td>\n",
       "      <td>12/17/2014 12:00:00 AM</td>\n",
       "      <td>HOME INVASION</td>\n",
       "      <td>13</td>\n",
       "      <td>Plea Of Guilty</td>\n",
       "      <td>Amended/Corrected Sentencing</td>\n",
       "      <td>Prison</td>\n",
       "      <td>30.0</td>\n",
       "      <td>Black</td>\n",
       "      <td>Male</td>\n",
       "    </tr>\n",
       "    <tr>\n",
       "      <th>5</th>\n",
       "      <td>PROMIS Conversion</td>\n",
       "      <td>12/17/2014 12:00:00 AM</td>\n",
       "      <td>HOME INVASION</td>\n",
       "      <td>13</td>\n",
       "      <td>Plea Of Guilty</td>\n",
       "      <td>Original Sentencing</td>\n",
       "      <td>Conversion</td>\n",
       "      <td>30.0</td>\n",
       "      <td>Black</td>\n",
       "      <td>Male</td>\n",
       "    </tr>\n",
       "    <tr>\n",
       "      <th>6</th>\n",
       "      <td>PROMIS Conversion</td>\n",
       "      <td>12/17/2014 12:00:00 AM</td>\n",
       "      <td>ARMED ROBBERY</td>\n",
       "      <td>15</td>\n",
       "      <td>Plea Of Guilty</td>\n",
       "      <td>Amended/Corrected Sentencing</td>\n",
       "      <td>Prison</td>\n",
       "      <td>30.0</td>\n",
       "      <td>Black</td>\n",
       "      <td>Male</td>\n",
       "    </tr>\n",
       "    <tr>\n",
       "      <th>7</th>\n",
       "      <td>PROMIS Conversion</td>\n",
       "      <td>12/17/2014 12:00:00 AM</td>\n",
       "      <td>ARMED ROBBERY</td>\n",
       "      <td>15</td>\n",
       "      <td>Plea Of Guilty</td>\n",
       "      <td>Original Sentencing</td>\n",
       "      <td>Conversion</td>\n",
       "      <td>30.0</td>\n",
       "      <td>Black</td>\n",
       "      <td>Male</td>\n",
       "    </tr>\n",
       "  </tbody>\n",
       "</table>\n",
       "</div>"
      ],
      "text/plain": [
       "    OFFENSE_CATEGORY        DISPOSITION_DATE  \\\n",
       "1  PROMIS Conversion  12/17/2014 12:00:00 AM   \n",
       "4  PROMIS Conversion  12/17/2014 12:00:00 AM   \n",
       "5  PROMIS Conversion  12/17/2014 12:00:00 AM   \n",
       "6  PROMIS Conversion  12/17/2014 12:00:00 AM   \n",
       "7  PROMIS Conversion  12/17/2014 12:00:00 AM   \n",
       "\n",
       "  DISPOSITION_CHARGED_OFFENSE_TITLE  CHARGE_COUNT CHARGE_DISPOSITION  \\\n",
       "1                     HOME INVASION            14    Nolle On Remand   \n",
       "4                     HOME INVASION            13     Plea Of Guilty   \n",
       "5                     HOME INVASION            13     Plea Of Guilty   \n",
       "6                     ARMED ROBBERY            15     Plea Of Guilty   \n",
       "7                     ARMED ROBBERY            15     Plea Of Guilty   \n",
       "\n",
       "                 SENTENCE_PHASE SENTENCE_TYPE  COMMITMENT_TERM   RACE GENDER  \n",
       "1           Original Sentencing    Conversion             30.0  Black   Male  \n",
       "4  Amended/Corrected Sentencing        Prison             30.0  Black   Male  \n",
       "5           Original Sentencing    Conversion             30.0  Black   Male  \n",
       "6  Amended/Corrected Sentencing        Prison             30.0  Black   Male  \n",
       "7           Original Sentencing    Conversion             30.0  Black   Male  "
      ]
     },
     "execution_count": 18,
     "metadata": {},
     "output_type": "execute_result"
    }
   ],
   "source": [
    "keep_df.head()"
   ]
  },
  {
   "cell_type": "markdown",
   "id": "native-colony",
   "metadata": {},
   "source": [
    "We convert this column to a datetime type, which allows us to do things like `keep_df['DISPOSITION_DATE'].dt.year` and other datetime methods. We could also use arguments like `parse_datetimes` and `infer_datetime_format` in `read_csv` to do this."
   ]
  },
  {
   "cell_type": "code",
   "execution_count": 19,
   "id": "later-basket",
   "metadata": {},
   "outputs": [],
   "source": [
    "keep_df['DISPOSITION_DATE'] = pd.to_datetime(keep_df['DISPOSITION_DATE'], errors='coerce')"
   ]
  },
  {
   "cell_type": "code",
   "execution_count": 20,
   "id": "joint-asbestos",
   "metadata": {},
   "outputs": [
    {
     "name": "stdout",
     "output_type": "stream",
     "text": [
      "<class 'pandas.core.frame.DataFrame'>\n",
      "Int64Index: 178836 entries, 1 to 248141\n",
      "Data columns (total 10 columns):\n",
      " #   Column                             Non-Null Count   Dtype         \n",
      "---  ------                             --------------   -----         \n",
      " 0   OFFENSE_CATEGORY                   178836 non-null  object        \n",
      " 1   DISPOSITION_DATE                   178832 non-null  datetime64[ns]\n",
      " 2   DISPOSITION_CHARGED_OFFENSE_TITLE  178836 non-null  object        \n",
      " 3   CHARGE_COUNT                       178836 non-null  int64         \n",
      " 4   CHARGE_DISPOSITION                 178836 non-null  object        \n",
      " 5   SENTENCE_PHASE                     178836 non-null  object        \n",
      " 6   SENTENCE_TYPE                      178836 non-null  object        \n",
      " 7   COMMITMENT_TERM                    178834 non-null  float64       \n",
      " 8   RACE                               178174 non-null  object        \n",
      " 9   GENDER                             178432 non-null  object        \n",
      "dtypes: datetime64[ns](1), float64(1), int64(1), object(7)\n",
      "memory usage: 15.0+ MB\n"
     ]
    }
   ],
   "source": [
    "keep_df.info()"
   ]
  },
  {
   "cell_type": "code",
   "execution_count": 21,
   "id": "meaningful-retreat",
   "metadata": {},
   "outputs": [
    {
     "data": {
      "text/plain": [
       "(178836, 10)"
      ]
     },
     "execution_count": 21,
     "metadata": {},
     "output_type": "execute_result"
    }
   ],
   "source": [
    "keep_df.shape"
   ]
  },
  {
   "cell_type": "code",
   "execution_count": 12,
   "id": "aquatic-impact",
   "metadata": {},
   "outputs": [
    {
     "data": {
      "text/plain": [
       "(605, 44)"
      ]
     },
     "execution_count": 12,
     "metadata": {},
     "output_type": "execute_result"
    }
   ],
   "source": [
    "# drop rows with any missing values - we lost several rows but not too many\n",
    "df.dropna(inplace=True)\n",
    "df.shape"
   ]
  },
  {
   "cell_type": "code",
   "execution_count": 10,
   "id": "f90583ce",
   "metadata": {},
   "outputs": [
    {
     "ename": "SyntaxError",
     "evalue": "invalid syntax (<ipython-input-10-acfbdbe8d549>, line 3)",
     "output_type": "error",
     "traceback": [
      "\u001b[1;36m  File \u001b[1;32m\"<ipython-input-10-acfbdbe8d549>\"\u001b[1;36m, line \u001b[1;32m3\u001b[0m\n\u001b[1;33m    df.plot.scatter(x = 'GENDER', y = 'RACE' title = 'Gender')\u001b[0m\n\u001b[1;37m                                             ^\u001b[0m\n\u001b[1;31mSyntaxError\u001b[0m\u001b[1;31m:\u001b[0m invalid syntax\n"
     ]
    }
   ],
   "source": [
    "# EDA \n",
    "\n",
    "df.plot.scatter(x = 'GENDER', y = 'RACE' title = 'Gender')"
   ]
  },
  {
   "cell_type": "code",
   "execution_count": 11,
   "id": "located-denver",
   "metadata": {},
   "outputs": [
    {
     "data": {
      "application/vnd.jupyter.widget-view+json": {
       "model_id": "67f4e6db16f94696977f39ee950d1401",
       "version_major": 2,
       "version_minor": 0
      },
      "text/plain": [
       "Summarize dataset:   0%|          | 0/57 [00:00<?, ?it/s]"
      ]
     },
     "metadata": {},
     "output_type": "display_data"
    },
    {
     "data": {
      "application/vnd.jupyter.widget-view+json": {
       "model_id": "aa6a2189a7354e978f931dd55960f74f",
       "version_major": 2,
       "version_minor": 0
      },
      "text/plain": [
       "Generate report structure:   0%|          | 0/1 [00:00<?, ?it/s]"
      ]
     },
     "metadata": {},
     "output_type": "display_data"
    },
    {
     "data": {
      "application/vnd.jupyter.widget-view+json": {
       "model_id": "9be00bdd03494c98823b1d7ac6a1261a",
       "version_major": 2,
       "version_minor": 0
      },
      "text/plain": [
       "Render HTML:   0%|          | 0/1 [00:00<?, ?it/s]"
      ]
     },
     "metadata": {},
     "output_type": "display_data"
    },
    {
     "data": {
      "application/vnd.jupyter.widget-view+json": {
       "model_id": "8076bcb1227442efa84b28e162659089",
       "version_major": 2,
       "version_minor": 0
      },
      "text/plain": [
       "Export report to file:   0%|          | 0/1 [00:00<?, ?it/s]"
      ]
     },
     "metadata": {},
     "output_type": "display_data"
    }
   ],
   "source": [
    "# save the auto-EDA report as sentencing_eda.html\n",
    "report = ProfileReport(df)\n",
    "report.to_file('eda.html')"
   ]
  },
  {
   "cell_type": "code",
   "execution_count": null,
   "id": "abbe9fd7",
   "metadata": {},
   "outputs": [],
   "source": []
  }
 ],
 "metadata": {
  "kernelspec": {
   "display_name": "Python 3",
   "language": "python",
   "name": "python3"
  },
  "language_info": {
   "codemirror_mode": {
    "name": "ipython",
    "version": 3
   },
   "file_extension": ".py",
   "mimetype": "text/x-python",
   "name": "python",
   "nbconvert_exporter": "python",
   "pygments_lexer": "ipython3",
   "version": "3.8.8"
  }
 },
 "nbformat": 4,
 "nbformat_minor": 5
}
